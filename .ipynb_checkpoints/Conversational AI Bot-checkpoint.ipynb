{
 "cells": [
  {
   "cell_type": "code",
   "execution_count": 53,
   "id": "0454a9b4",
   "metadata": {},
   "outputs": [],
   "source": [
    "import os\n",
    "from dotenv import load_dotenv\n",
    "from openai import OpenAI\n",
    "import tiktoken\n",
    "import json\n",
    "import datetime as dt"
   ]
  },
  {
   "cell_type": "code",
   "execution_count": 2,
   "id": "425579fc",
   "metadata": {},
   "outputs": [],
   "source": [
    "load_dotenv()\n",
    "\n",
    "api_key = os.getenv(\"oapi_key\")\n",
    "base_url = os.getenv(\"open_base_url\")\n",
    "model = os.getenv(\"model\")"
   ]
  },
  {
   "cell_type": "code",
   "execution_count": 54,
   "id": "eded5426",
   "metadata": {},
   "outputs": [],
   "source": [
    "class Bot:\n",
    "    def __init__(self,api_key, base_url = base_url,\n",
    "                model = model,default_temperature = 0.7,\n",
    "                default_max_tokens = 500,\n",
    "                token_budget = 4096,\n",
    "                 history_file = None\n",
    "                ):\n",
    "        self.client = OpenAI(api_key=api_key)\n",
    "        self.base_url = base_url\n",
    "        self.model = model\n",
    "        self.token_budget = token_budget\n",
    "        self.default_temperature = default_temperature\n",
    "        self.default_max_tokens = default_max_tokens\n",
    "        if not history_file:\n",
    "            timestamp = dt.datetime.now().strftime(\"%Y%m%d_%H%M%S\")\n",
    "            self.history_file = f\"conversation_history_{timestamp}.json\"\n",
    "        else:\n",
    "            self.history_file = history_file\n",
    "        self.personas = {\n",
    "                \"blogger\": \"You are a creative blogger specializing in engaging and informative content for DigiTech Synergy Pvt. Ltd.\",\n",
    "                \"social_media_expert\": \"You are a social media expert, crafting catchy and shareable posts for DigiTech Synergy Pvt. Ltd.\",\n",
    "                \"creative_assistant\": \"You are a creative assistant skilled in crafting engaging marketing content for DigiTech Synergy Pvt. Ltd\"\n",
    "            }\n",
    "\n",
    "        self.system_message = self.personas[\"creative_assistant\"] # default system message\n",
    "#         self.conversation_history = [{\"role\":\"system\",\n",
    "#                                      \"content\":self.system_message}]\n",
    "        self.load_conversation_history()\n",
    "    \n",
    "    def load_conversation_history(self):\n",
    "        try:\n",
    "            with open(self.history_file) as f:\n",
    "                self.conversation_history = json.load(f)\n",
    "        except FileNotFoundError:\n",
    "            self.conversation_history = [{\"role\":\"system\",\n",
    "                                          \"content\":self.system_message}]\n",
    "            \n",
    "        except json.JSONDecodeError:\n",
    "            self.conversation_history = [{\"role\":\"system\",\"content\":self.system_message}]\n",
    "     \n",
    "    def save_conversation_history(self):\n",
    "        with open(self.history_file, \"w\") as f:\n",
    "            json.dump(self.conversation_history,f, indent = 4)\n",
    "        \n",
    "    def count_tokens(self, text):\n",
    "        try:\n",
    "            encoding = tiktoken.encoding_for_model(self.model)\n",
    "        except KeyError:\n",
    "            encoding = tiktoken.get_encoding(\"cl100k_base\")\n",
    "        \n",
    "        tokens = encoding.encode(text)\n",
    "        return len(tokens)\n",
    "    \n",
    "    def total_token_used(self):\n",
    "\n",
    "        return sum(self.count_tokens(message[\"content\"]) for message in self.conversation_history)\n",
    "    \n",
    "    def enforce_token_budget(self):\n",
    "        while self.total_token_used() > self.token_budget:\n",
    "            if len(self.conversation_history) <= 1:\n",
    "                break\n",
    "            else:\n",
    "                self.conversation_history.pop(1)\n",
    "    \n",
    "    def set_persona(self, persona):\n",
    "        if persona in self.personas:\n",
    "            self.system_message = self.personas[persona]\n",
    "            if self.conversation_history and self.conversation_history[0][\"role\"] == \"system\":\n",
    "                self.conversation_history[0][\"content\"] = self.system_message\n",
    "            else:\n",
    "                self.conversation_history.insert(0,{\"role\":\"system\",\n",
    "                                                 \"content\":self.system_message})\n",
    "            \n",
    "        else:\n",
    "            raise KeyError(f\"\"\"Unknwon Persona {persona}. Available \\\n",
    "            personas are: {list(self.personas.keys())}\"\"\")\n",
    "            \n",
    "    def set_custom_system_message(self, custom_message):\n",
    "        if not custom_message:\n",
    "            raise ValueError(\"Custom message can't be empty\")\n",
    "        else:\n",
    "            self.personas[\"custom\"] = custom_message\n",
    "            \n",
    "        self.set_persona(\"custom\")\n",
    "                      \n",
    "    \n",
    "    def chat_completion(self, prompt, temperature = None, max_tokens = None):\n",
    "        \n",
    "        temperature = temperature if temperature is not None else self.default_temperature\n",
    "        max_tokens = max_tokens if max_tokens is not None else self.default_max_tokens\n",
    "        \n",
    "        self.conversation_history.append({\"role\":\"user\",\"content\":prompt})\n",
    "        \n",
    "        self.enforce_token_budget()\n",
    "        \n",
    "        response = self.client.chat.completions.create(model = self.model,\n",
    "                                                      messages = self.conversation_history,\n",
    "                                                      temperature = temperature,\n",
    "                                                      max_tokens = max_tokens)\n",
    "        \n",
    "        ai_response = response.choices[0].message.content\n",
    "        \n",
    "        self.conversation_history.append({\"role\":\"assistant\",\n",
    "                                 \"content\":ai_response})\n",
    "        self.save_conversation_history()\n",
    "        return ai_response\n",
    "        "
   ]
  },
  {
   "cell_type": "code",
   "execution_count": 55,
   "id": "bee35d43",
   "metadata": {},
   "outputs": [],
   "source": [
    "bot = Bot(api_key, token_budget= 100)\n",
    "# resp = bot.chat_completion(\"Write a 3 lines AI marketing content\")\n",
    "# resp"
   ]
  },
  {
   "cell_type": "code",
   "execution_count": 56,
   "id": "8279511c",
   "metadata": {},
   "outputs": [
    {
     "data": {
      "text/plain": [
       "'conversation_history_20240226_172452.json'"
      ]
     },
     "execution_count": 56,
     "metadata": {},
     "output_type": "execute_result"
    }
   ],
   "source": [
    "bot.history_file"
   ]
  },
  {
   "cell_type": "code",
   "execution_count": 46,
   "id": "54e4be9d",
   "metadata": {},
   "outputs": [],
   "source": [
    "bot.set_persona('creative_assistant')"
   ]
  },
  {
   "cell_type": "code",
   "execution_count": 47,
   "id": "eb6f5dc5",
   "metadata": {},
   "outputs": [
    {
     "data": {
      "text/plain": [
       "[{'role': 'system',\n",
       "  'content': 'You are a creative assistant skilled in crafting engaging marketing content for DigiTech Synergy Pvt. Ltd'},\n",
       " {'role': 'user', 'content': 'Write a 3 lines AI marketing content'},\n",
       " {'role': 'assistant',\n",
       "  'content': 'Revolutionize your marketing strategy with AI-powered analytics. Unlock valuable insights and improve customer engagement like never before. Stay ahead of the competition with cutting-edge AI technology.'}]"
      ]
     },
     "execution_count": 47,
     "metadata": {},
     "output_type": "execute_result"
    }
   ],
   "source": [
    "bot.conversation_history"
   ]
  },
  {
   "cell_type": "code",
   "execution_count": 48,
   "id": "ccf825e2",
   "metadata": {},
   "outputs": [
    {
     "data": {
      "text/plain": [
       "{'blogger': 'You are a creative blogger specializing in engaging and informative content for DigiTech Synergy Pvt. Ltd.',\n",
       " 'social_media_expert': 'You are a social media expert, crafting catchy and shareable posts for DigiTech Synergy Pvt. Ltd.',\n",
       " 'creative_assistant': 'You are a creative assistant skilled in crafting engaging marketing content for DigiTech Synergy Pvt. Ltd'}"
      ]
     },
     "execution_count": 48,
     "metadata": {},
     "output_type": "execute_result"
    }
   ],
   "source": [
    "bot.personas"
   ]
  },
  {
   "cell_type": "code",
   "execution_count": 49,
   "id": "d6b78df3",
   "metadata": {},
   "outputs": [],
   "source": [
    "bot.set_custom_system_message(\"You are a data scientist\")"
   ]
  },
  {
   "cell_type": "code",
   "execution_count": 50,
   "id": "72978fe9",
   "metadata": {},
   "outputs": [
    {
     "data": {
      "text/plain": [
       "{'blogger': 'You are a creative blogger specializing in engaging and informative content for DigiTech Synergy Pvt. Ltd.',\n",
       " 'social_media_expert': 'You are a social media expert, crafting catchy and shareable posts for DigiTech Synergy Pvt. Ltd.',\n",
       " 'creative_assistant': 'You are a creative assistant skilled in crafting engaging marketing content for DigiTech Synergy Pvt. Ltd',\n",
       " 'custom': 'You are a data scientist'}"
      ]
     },
     "execution_count": 50,
     "metadata": {},
     "output_type": "execute_result"
    }
   ],
   "source": [
    "bot.personas"
   ]
  },
  {
   "cell_type": "code",
   "execution_count": 51,
   "id": "95551420",
   "metadata": {},
   "outputs": [
    {
     "data": {
      "text/plain": [
       "'You are a data scientist'"
      ]
     },
     "execution_count": 51,
     "metadata": {},
     "output_type": "execute_result"
    }
   ],
   "source": [
    "bot.system_message"
   ]
  },
  {
   "cell_type": "code",
   "execution_count": 52,
   "id": "01e7c360",
   "metadata": {},
   "outputs": [
    {
     "data": {
      "text/plain": [
       "[{'role': 'system', 'content': 'You are a data scientist'},\n",
       " {'role': 'user', 'content': 'Write a 3 lines AI marketing content'},\n",
       " {'role': 'assistant',\n",
       "  'content': 'Revolutionize your marketing strategy with AI-powered analytics. Unlock valuable insights and improve customer engagement like never before. Stay ahead of the competition with cutting-edge AI technology.'}]"
      ]
     },
     "execution_count": 52,
     "metadata": {},
     "output_type": "execute_result"
    }
   ],
   "source": [
    "bot.conversation_history"
   ]
  },
  {
   "cell_type": "code",
   "execution_count": null,
   "id": "c07b9e21",
   "metadata": {},
   "outputs": [],
   "source": []
  }
 ],
 "metadata": {
  "kernelspec": {
   "display_name": "Python 3 (ipykernel)",
   "language": "python",
   "name": "python3"
  },
  "language_info": {
   "codemirror_mode": {
    "name": "ipython",
    "version": 3
   },
   "file_extension": ".py",
   "mimetype": "text/x-python",
   "name": "python",
   "nbconvert_exporter": "python",
   "pygments_lexer": "ipython3",
   "version": "3.11.5"
  }
 },
 "nbformat": 4,
 "nbformat_minor": 5
}
