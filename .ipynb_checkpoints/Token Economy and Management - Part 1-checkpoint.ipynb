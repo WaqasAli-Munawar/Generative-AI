{
 "cells": [
  {
   "cell_type": "code",
   "execution_count": 6,
   "id": "ad1bd4a1",
   "metadata": {},
   "outputs": [
    {
     "data": {
      "text/plain": [
       "True"
      ]
     },
     "execution_count": 6,
     "metadata": {},
     "output_type": "execute_result"
    }
   ],
   "source": [
    "import os\n",
    "from dotenv import load_dotenv\n",
    "from openai import OpenAI\n",
    "\n",
    "load_dotenv()"
   ]
  },
  {
   "cell_type": "code",
   "execution_count": 7,
   "id": "41b02a71",
   "metadata": {},
   "outputs": [],
   "source": [
    "api_key = os.getenv(\"oapi_key\")\n",
    "base_url = \"https://api.openai.com/v1\"\n",
    "model = \"gpt-3.5-turbo\""
   ]
  },
  {
   "cell_type": "code",
   "execution_count": 8,
   "id": "ff28a654",
   "metadata": {},
   "outputs": [],
   "source": [
    "# Chat History Management and it Size\n",
    "\n",
    "class ConversationBot:\n",
    "    \n",
    "    def __init__(self,api_key, base_url = base_url, model = model,\n",
    "                system_message = \"\"\"You are a helpful marketing assistant for DigiTech Synergy.\"\"\",\n",
    "                max_history = 5):\n",
    "        self.client = OpenAI(api_key=api_key)\n",
    "        self.client.base_url = base_url\n",
    "        self.model = model\n",
    "        self.system_message = system_message\n",
    "        self.conversation_history = [{\"role\":\"system\",\"content\": self.system_message}]\n",
    "        self.max_history = max_history\n",
    "        \n",
    "    def enforce_history_limit(self):\n",
    "        while len(self.conversation_history) > self.max_history:\n",
    "            self.conversation_history.pop(1)\n",
    "    \n",
    "    def chat_completion(self, prompt, temperature = 0.7, max_tokens = 500):\n",
    "        \n",
    "        self.conversation_history.append({\"role\":\"user\", \"content\":prompt})\n",
    "        \n",
    "        response = self.client.chat.completions.create(model = self.model,\n",
    "                                                       messages = self.conversation_history)\n",
    "        ai_response = response.choices[0].message.content\n",
    "        self.conversation_history.append({\"role\":\"assistant\", \"content\":ai_response})\n",
    "        self.enforce_history_limit()\n",
    "        \n",
    "        return ai_response"
   ]
  },
  {
   "cell_type": "code",
   "execution_count": 3,
   "id": "4897526e",
   "metadata": {},
   "outputs": [],
   "source": [
    "prompt1 = \"Please write a tweet to promote our new AI Industrial Training.\"\n",
    "prompt2 = \"Great, now make the tweet a little longer.\"\n",
    "prompt3 = \"Great, now add one more hash tag.\""
   ]
  },
  {
   "cell_type": "code",
   "execution_count": null,
   "id": "d8af1fad",
   "metadata": {},
   "outputs": [],
   "source": []
  }
 ],
 "metadata": {
  "kernelspec": {
   "display_name": "Python 3 (ipykernel)",
   "language": "python",
   "name": "python3"
  },
  "language_info": {
   "codemirror_mode": {
    "name": "ipython",
    "version": 3
   },
   "file_extension": ".py",
   "mimetype": "text/x-python",
   "name": "python",
   "nbconvert_exporter": "python",
   "pygments_lexer": "ipython3",
   "version": "3.11.5"
  }
 },
 "nbformat": 4,
 "nbformat_minor": 5
}
