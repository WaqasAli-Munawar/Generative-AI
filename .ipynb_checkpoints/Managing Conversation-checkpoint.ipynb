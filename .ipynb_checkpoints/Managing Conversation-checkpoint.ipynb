{
 "cells": [
  {
   "cell_type": "code",
   "execution_count": 1,
   "id": "ad1bd4a1",
   "metadata": {},
   "outputs": [
    {
     "data": {
      "text/plain": [
       "True"
      ]
     },
     "execution_count": 1,
     "metadata": {},
     "output_type": "execute_result"
    }
   ],
   "source": [
    "import os\n",
    "from dotenv import load_dotenv\n",
    "from openai import OpenAI\n",
    "\n",
    "load_dotenv()"
   ]
  },
  {
   "cell_type": "code",
   "execution_count": 2,
   "id": "41b02a71",
   "metadata": {},
   "outputs": [],
   "source": [
    "api_key = os.getenv(\"oapi_key\")\n",
    "base_url = \"https://api.openai.com/v1\"\n",
    "model = \"gpt-3.5-turbo\""
   ]
  },
  {
   "cell_type": "code",
   "execution_count": 3,
   "id": "602bd365",
   "metadata": {},
   "outputs": [],
   "source": [
    "class ConversationManager:\n",
    "    \n",
    "    def __init__(self,api_key, base_url = base_url, model = model,\n",
    "                system_message = \"\"\"You are a helpful marketing assistant for DigiTech Synergy.\"\"\"):\n",
    "        self.client = OpenAI(api_key=api_key)\n",
    "        self.client.base_url = base_url\n",
    "        self.model = model\n",
    "        self.system_message = system_message\n",
    "    \n",
    "    def chat_completion(self, prompt, temperature = 0.7, max_tokens = 500):\n",
    "        messages = [\n",
    "                {\"role\":\"system\",\"content\": self.system_message\n",
    "                },\n",
    "                {\"role\":\"user\", \"content\":prompt}\n",
    "            ]\n",
    "        response = self.client.chat.completions.create(model = self.model,\n",
    "                                                       messages = messages)\n",
    "        ai_response = response.choices[0].message.content\n",
    "        return ai_response\n",
    "        "
   ]
  },
  {
   "cell_type": "code",
   "execution_count": 4,
   "id": "63ebe76c",
   "metadata": {},
   "outputs": [
    {
     "name": "stdout",
     "output_type": "stream",
     "text": [
      "🚀 Level up your skills with our cutting-edge AI Training! 🤖 Learn how to harness the power of artificial intelligence to drive innovation and boost your business success. Don't miss out on this transformative opportunity! Enroll today and unlock a world of endless possibilities. #AITraining #TechRevolution #AIInnovation\n"
     ]
    }
   ],
   "source": [
    "system_message = \"You are a social media expert, crafting catchy and shareable posts for DigiTech Synergy.\"\n",
    "conv_manager = ConversationManager(api_key=api_key, system_message=system_message)\n",
    "\n",
    "prompt = \"Please write a tweet to promote our new AI Training.\"\n",
    "response = conv_manager.chat_completion(prompt, temperature=0.5, max_tokens=300)\n",
    "print(response)"
   ]
  },
  {
   "cell_type": "code",
   "execution_count": 5,
   "id": "bf5dae08",
   "metadata": {},
   "outputs": [],
   "source": [
    "# Implementing Chat History Management\n",
    "# Managing Conversation History Size"
   ]
  },
  {
   "cell_type": "code",
   "execution_count": null,
   "id": "f677c896",
   "metadata": {},
   "outputs": [],
   "source": []
  },
  {
   "cell_type": "code",
   "execution_count": null,
   "id": "1ba78fd9",
   "metadata": {},
   "outputs": [],
   "source": []
  },
  {
   "cell_type": "code",
   "execution_count": null,
   "id": "4c7f023a",
   "metadata": {},
   "outputs": [],
   "source": []
  },
  {
   "cell_type": "code",
   "execution_count": null,
   "id": "03cfb3d4",
   "metadata": {},
   "outputs": [],
   "source": []
  },
  {
   "cell_type": "code",
   "execution_count": null,
   "id": "7d7869c1",
   "metadata": {},
   "outputs": [],
   "source": []
  },
  {
   "cell_type": "code",
   "execution_count": null,
   "id": "276236e8",
   "metadata": {},
   "outputs": [],
   "source": []
  },
  {
   "cell_type": "code",
   "execution_count": null,
   "id": "c9ccd21b",
   "metadata": {},
   "outputs": [],
   "source": []
  },
  {
   "cell_type": "code",
   "execution_count": null,
   "id": "2cfe2f7a",
   "metadata": {},
   "outputs": [],
   "source": []
  },
  {
   "cell_type": "code",
   "execution_count": null,
   "id": "f442866c",
   "metadata": {},
   "outputs": [],
   "source": []
  },
  {
   "cell_type": "code",
   "execution_count": null,
   "id": "9a4c9ad3",
   "metadata": {},
   "outputs": [],
   "source": []
  },
  {
   "cell_type": "code",
   "execution_count": null,
   "id": "bdef6c7d",
   "metadata": {},
   "outputs": [],
   "source": []
  },
  {
   "cell_type": "code",
   "execution_count": null,
   "id": "742d547e",
   "metadata": {},
   "outputs": [],
   "source": []
  },
  {
   "cell_type": "code",
   "execution_count": null,
   "id": "4897526e",
   "metadata": {},
   "outputs": [],
   "source": []
  },
  {
   "cell_type": "code",
   "execution_count": null,
   "id": "8c3e1684",
   "metadata": {},
   "outputs": [],
   "source": [
    "prompt0 = \"Please write a tweet to promote our new AI program.\"\n",
    "prompt1 = \"Please write a tweet to promote our new AI Industrial Training.\"\n",
    "prompt2 = \"Great, now make the tweet a little shorter.\"\n",
    "prompt3 = \"Great, now add one more hash tag.\"\n"
   ]
  },
  {
   "cell_type": "code",
   "execution_count": null,
   "id": "f795c42a",
   "metadata": {},
   "outputs": [],
   "source": []
  }
 ],
 "metadata": {
  "kernelspec": {
   "display_name": "Python 3 (ipykernel)",
   "language": "python",
   "name": "python3"
  },
  "language_info": {
   "codemirror_mode": {
    "name": "ipython",
    "version": 3
   },
   "file_extension": ".py",
   "mimetype": "text/x-python",
   "name": "python",
   "nbconvert_exporter": "python",
   "pygments_lexer": "ipython3",
   "version": "3.11.5"
  }
 },
 "nbformat": 4,
 "nbformat_minor": 5
}
