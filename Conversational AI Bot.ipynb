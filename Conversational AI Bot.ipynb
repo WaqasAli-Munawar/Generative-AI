{
 "cells": [
  {
   "cell_type": "code",
   "execution_count": 2,
   "id": "0454a9b4",
   "metadata": {},
   "outputs": [],
   "source": [
    "import os\n",
    "from dotenv import load_dotenv\n",
    "from openai import OpenAI\n",
    "import tiktoken\n",
    "import json\n",
    "import datetime as dt"
   ]
  },
  {
   "cell_type": "code",
   "execution_count": 3,
   "id": "425579fc",
   "metadata": {},
   "outputs": [],
   "source": [
    "load_dotenv()\n",
    "\n",
    "api_key = os.getenv(\"oapi_key\")\n",
    "base_url = os.getenv(\"open_base_url\")\n",
    "model = os.getenv(\"model\")"
   ]
  },
  {
   "cell_type": "code",
   "execution_count": 11,
   "id": "eded5426",
   "metadata": {},
   "outputs": [],
   "source": [
    "class Bot:\n",
    "    def __init__(self,api_key, base_url = base_url,\n",
    "                model = model,default_temperature = 0.7,\n",
    "                default_max_tokens = 500,\n",
    "                token_budget = 4096,\n",
    "                 history_file = None\n",
    "                ):\n",
    "        self.client = OpenAI(api_key=api_key)\n",
    "        self.base_url = base_url\n",
    "        self.model = model\n",
    "        self.token_budget = token_budget\n",
    "        self.default_temperature = default_temperature\n",
    "        self.default_max_tokens = default_max_tokens\n",
    "        if not history_file:\n",
    "            timestamp = dt.datetime.now().strftime(\"%Y%m%d_%H%M%S\")\n",
    "            self.history_file = f\"conversation_history_{timestamp}.json\"\n",
    "        else:\n",
    "            self.history_file = history_file\n",
    "        self.personas = {\n",
    "                \"blogger\": \"You are a creative blogger specializing in engaging and informative content for DigiTech Synergy Pvt. Ltd.\",\n",
    "                \"social_media_expert\": \"You are a social media expert, crafting catchy and shareable posts for DigiTech Synergy Pvt. Ltd.\",\n",
    "                \"creative_assistant\": \"You are a creative assistant skilled in crafting engaging marketing content for DigiTech Synergy Pvt. Ltd\"\n",
    "            }\n",
    "\n",
    "        self.system_message = self.personas[\"creative_assistant\"] # default system message\n",
    "#         self.conversation_history = [{\"role\":\"system\",\n",
    "#                                      \"content\":self.system_message}]\n",
    "        self.load_conversation_history()\n",
    "    \n",
    "    def load_conversation_history(self):\n",
    "        try:\n",
    "            with open(self.history_file) as f:\n",
    "                self.conversation_history = json.load(f)\n",
    "        except FileNotFoundError:\n",
    "            self.conversation_history = [{\"role\":\"system\",\n",
    "                                          \"content\":self.system_message}]\n",
    "            \n",
    "        except json.JSONDecodeError:\n",
    "            self.conversation_history = [{\"role\":\"system\",\"content\":self.system_message}]\n",
    "     \n",
    "    def save_conversation_history(self):\n",
    "        try:\n",
    "            with open(self.history_file, \"w\") as f:\n",
    "                json.dump(self.conversation_history,f, indent = 4)\n",
    "        except IOError as e:\n",
    "            print(f\"An I/O error occurred while saving the conversation history: {e}\")\n",
    "        \n",
    "        except Exception as e:\n",
    "            print(f\"An unexpected error occurred while saving the conversation history: {e}\")\n",
    "            \n",
    "    def reset_conversation_history(self):\n",
    "        self.conversation_history = [{\"role\":\"system\",\"content\":self.system_message}]\n",
    "        self.save_conversation_history()\n",
    "    \n",
    "        \n",
    "    def count_tokens(self, text):\n",
    "        try:\n",
    "            encoding = tiktoken.encoding_for_model(self.model)\n",
    "        except KeyError:\n",
    "            encoding = tiktoken.get_encoding(\"cl100k_base\")\n",
    "        \n",
    "        tokens = encoding.encode(text)\n",
    "        return len(tokens)\n",
    "    \n",
    "    def total_token_used(self):\n",
    "\n",
    "        return sum(self.count_tokens(message[\"content\"]) for message in self.conversation_history)\n",
    "    \n",
    "    def enforce_token_budget(self):\n",
    "        while self.total_token_used() > self.token_budget:\n",
    "            if len(self.conversation_history) <= 1:\n",
    "                break\n",
    "            else:\n",
    "                self.conversation_history.pop(1)\n",
    "    \n",
    "    def set_persona(self, persona):\n",
    "        if persona in self.personas:\n",
    "            self.system_message = self.personas[persona]\n",
    "            if self.conversation_history and self.conversation_history[0][\"role\"] == \"system\":\n",
    "                self.conversation_history[0][\"content\"] = self.system_message\n",
    "            else:\n",
    "                self.conversation_history.insert(0,{\"role\":\"system\",\n",
    "                                                 \"content\":self.system_message})\n",
    "            \n",
    "        else:\n",
    "            raise KeyError(f\"\"\"Unknwon Persona {persona}. Available \\\n",
    "            personas are: {list(self.personas.keys())}\"\"\")\n",
    "            \n",
    "    def set_custom_system_message(self, custom_message):\n",
    "        if not custom_message:\n",
    "            raise ValueError(\"Custom message can't be empty\")\n",
    "        else:\n",
    "            self.personas[\"custom\"] = custom_message\n",
    "            \n",
    "        self.set_persona(\"custom\")\n",
    "                      \n",
    "    \n",
    "    def chat_completion(self, prompt, temperature = None, max_tokens = None):\n",
    "        \n",
    "        temperature = temperature if temperature is not None else self.default_temperature\n",
    "        max_tokens = max_tokens if max_tokens is not None else self.default_max_tokens\n",
    "        \n",
    "        self.conversation_history.append({\"role\":\"user\",\"content\":prompt})\n",
    "        \n",
    "        self.enforce_token_budget()\n",
    "        \n",
    "        try:\n",
    "        \n",
    "            response = self.client.chat.completions.create(model = self.model,\n",
    "                                                          messages = self.conversation_history,\n",
    "                                                          temperature = temperature,\n",
    "                                                          max_tokens = max_tokens)\n",
    "        except Exception as e:\n",
    "            print(f\"An error occured while generating a response: {e}\")\n",
    "            return None\n",
    "            \n",
    "\n",
    "        ai_response = response.choices[0].message.content\n",
    "        \n",
    "        self.conversation_history.append({\"role\":\"assistant\",\"content\":ai_response})\n",
    "        self.save_conversation_history()\n",
    "        return ai_response\n",
    "        "
   ]
  },
  {
   "cell_type": "code",
   "execution_count": 12,
   "id": "bee35d43",
   "metadata": {},
   "outputs": [],
   "source": [
    "bot = Bot(api_key, token_budget= 100)\n",
    "resp = bot.chat_completion(\"Write a 3 lines AI marketing content\")\n",
    "# resp"
   ]
  },
  {
   "cell_type": "code",
   "execution_count": 13,
   "id": "8279511c",
   "metadata": {},
   "outputs": [
    {
     "data": {
      "text/plain": [
       "'conversation_history_20240226_174300.json'"
      ]
     },
     "execution_count": 13,
     "metadata": {},
     "output_type": "execute_result"
    }
   ],
   "source": [
    "bot.history_file"
   ]
  },
  {
   "cell_type": "code",
   "execution_count": 14,
   "id": "54e4be9d",
   "metadata": {},
   "outputs": [
    {
     "data": {
      "text/plain": [
       "[{'role': 'system',\n",
       "  'content': 'You are a creative assistant skilled in crafting engaging marketing content for DigiTech Synergy Pvt. Ltd'},\n",
       " {'role': 'user', 'content': 'Write a 3 lines AI marketing content'},\n",
       " {'role': 'assistant',\n",
       "  'content': '\"Unlock the power of AI with DigiTech Synergy Pvt. Ltd. Revolutionize your business with cutting-edge technology solutions tailored to your needs. Embrace the future of innovation today.\"'}]"
      ]
     },
     "execution_count": 14,
     "metadata": {},
     "output_type": "execute_result"
    }
   ],
   "source": [
    "bot.conversation_history"
   ]
  },
  {
   "cell_type": "code",
   "execution_count": 15,
   "id": "c07b9e21",
   "metadata": {},
   "outputs": [],
   "source": [
    "bot.reset_conversation_history()"
   ]
  },
  {
   "cell_type": "code",
   "execution_count": 16,
   "id": "5ccc0fda",
   "metadata": {},
   "outputs": [
    {
     "data": {
      "text/plain": [
       "[{'role': 'system',\n",
       "  'content': 'You are a creative assistant skilled in crafting engaging marketing content for DigiTech Synergy Pvt. Ltd'}]"
      ]
     },
     "execution_count": 16,
     "metadata": {},
     "output_type": "execute_result"
    }
   ],
   "source": [
    "bot.conversation_history"
   ]
  },
  {
   "cell_type": "code",
   "execution_count": null,
   "id": "4540c5a5",
   "metadata": {},
   "outputs": [],
   "source": []
  }
 ],
 "metadata": {
  "kernelspec": {
   "display_name": "Python 3 (ipykernel)",
   "language": "python",
   "name": "python3"
  },
  "language_info": {
   "codemirror_mode": {
    "name": "ipython",
    "version": 3
   },
   "file_extension": ".py",
   "mimetype": "text/x-python",
   "name": "python",
   "nbconvert_exporter": "python",
   "pygments_lexer": "ipython3",
   "version": "3.11.5"
  }
 },
 "nbformat": 4,
 "nbformat_minor": 5
}
